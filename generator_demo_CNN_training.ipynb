{
 "cells": [
  {
   "cell_type": "markdown",
   "metadata": {},
   "source": [
    "This notebook demonstrates the functionality of our 3D generator class on Grayscale CT scans.\n",
    "\n",
    "**Note:** \n",
    "\n",
    "* In this notebook an oversimplified CNN architecture is used as well as low number of epochs. Therefore, the main purpose is to provide a guideline on how to use the generator for data augmentation during training."
   ]
  },
  {
   "cell_type": "markdown",
   "metadata": {},
   "source": [
    "## Import Libraries"
   ]
  },
  {
   "cell_type": "code",
   "execution_count": 1,
   "metadata": {},
   "outputs": [],
   "source": [
    "import numpy as np\n",
    "import pandas as pd   \n",
    "\n",
    "#libraries for deep learning\n",
    "import tensorflow as tf\n",
    "from tensorflow.keras.models import Sequential\n",
    "from tensorflow.keras.layers import Dense, Conv3D, MaxPool3D, Flatten, Dropout"
   ]
  },
  {
   "cell_type": "markdown",
   "metadata": {},
   "source": [
    "# Load Data Info"
   ]
  },
  {
   "cell_type": "code",
   "execution_count": 2,
   "metadata": {},
   "outputs": [
    {
     "data": {
      "text/html": [
       "<div>\n",
       "<style scoped>\n",
       "    .dataframe tbody tr th:only-of-type {\n",
       "        vertical-align: middle;\n",
       "    }\n",
       "\n",
       "    .dataframe tbody tr th {\n",
       "        vertical-align: top;\n",
       "    }\n",
       "\n",
       "    .dataframe thead th {\n",
       "        text-align: right;\n",
       "    }\n",
       "</style>\n",
       "<table border=\"1\" class=\"dataframe\">\n",
       "  <thead>\n",
       "    <tr style=\"text-align: right;\">\n",
       "      <th></th>\n",
       "      <th>patient_id</th>\n",
       "      <th>scan_id</th>\n",
       "      <th>label</th>\n",
       "    </tr>\n",
       "  </thead>\n",
       "  <tbody>\n",
       "    <tr>\n",
       "      <th>0</th>\n",
       "      <td>0</td>\n",
       "      <td>3131</td>\n",
       "      <td>1</td>\n",
       "    </tr>\n",
       "    <tr>\n",
       "      <th>1</th>\n",
       "      <td>1</td>\n",
       "      <td>3143</td>\n",
       "      <td>1</td>\n",
       "    </tr>\n",
       "    <tr>\n",
       "      <th>2</th>\n",
       "      <td>10</td>\n",
       "      <td>3152</td>\n",
       "      <td>1</td>\n",
       "    </tr>\n",
       "    <tr>\n",
       "      <th>3</th>\n",
       "      <td>1065</td>\n",
       "      <td>3104</td>\n",
       "      <td>1</td>\n",
       "    </tr>\n",
       "    <tr>\n",
       "      <th>4</th>\n",
       "      <td>1066</td>\n",
       "      <td>3105</td>\n",
       "      <td>1</td>\n",
       "    </tr>\n",
       "  </tbody>\n",
       "</table>\n",
       "</div>"
      ],
      "text/plain": [
       "   patient_id  scan_id  label\n",
       "0           0     3131      1\n",
       "1           1     3143      1\n",
       "2          10     3152      1\n",
       "3        1065     3104      1\n",
       "4        1066     3105      1"
      ]
     },
     "execution_count": 2,
     "metadata": {},
     "output_type": "execute_result"
    }
   ],
   "source": [
    "info = pd.read_csv('ct_info.csv')\n",
    "info.head()"
   ]
  },
  {
   "cell_type": "code",
   "execution_count": 3,
   "metadata": {},
   "outputs": [
    {
     "data": {
      "text/plain": [
       "3    19\n",
       "2    19\n",
       "1    19\n",
       "Name: label, dtype: int64"
      ]
     },
     "execution_count": 3,
     "metadata": {},
     "output_type": "execute_result"
    }
   ],
   "source": [
    "info.label.value_counts()"
   ]
  },
  {
   "cell_type": "markdown",
   "metadata": {},
   "source": [
    " **Labels should start by 0** instead of 1 so we need to make the appropriate changes."
   ]
  },
  {
   "cell_type": "code",
   "execution_count": 4,
   "metadata": {},
   "outputs": [
    {
     "data": {
      "text/plain": [
       "2    19\n",
       "1    19\n",
       "0    19\n",
       "Name: label, dtype: int64"
      ]
     },
     "execution_count": 4,
     "metadata": {},
     "output_type": "execute_result"
    }
   ],
   "source": [
    "info['label'].replace({1:0, 2:1, 3:2},inplace=True)\n",
    "info.label.value_counts()"
   ]
  },
  {
   "cell_type": "markdown",
   "metadata": {},
   "source": [
    "## Split IDs to train and test test 80/20"
   ]
  },
  {
   "cell_type": "code",
   "execution_count": 5,
   "metadata": {},
   "outputs": [],
   "source": [
    "train = info['patient_id'].sample(frac = 0.8).to_list()\n",
    "validation = list(set(train)^set(info['patient_id']))\n",
    "\n",
    "#make the train/test IDs a list\n",
    "train = [str(i) for i in train]\n",
    "validation = [str(i) for i in validation]\n",
    "\n",
    "#create dictionary containing the train/test ID list\n",
    "dictionary = {\n",
    "    'train': train,\n",
    "    'validation': validation}"
   ]
  },
  {
   "cell_type": "code",
   "execution_count": 6,
   "metadata": {},
   "outputs": [],
   "source": [
    "#create a dictionary of the labels where key and values are charcters.\n",
    "labels = pd.Series(info.label.values, index = info.patient_id.astype(str)).to_dict()"
   ]
  },
  {
   "cell_type": "markdown",
   "metadata": {},
   "source": [
    "## Import our Generator"
   ]
  },
  {
   "cell_type": "code",
   "execution_count": 7,
   "metadata": {},
   "outputs": [],
   "source": [
    "from Image3DGenerator import DataGenerator"
   ]
  },
  {
   "cell_type": "code",
   "execution_count": 8,
   "metadata": {},
   "outputs": [],
   "source": [
    "# Parameters\n",
    "params = {'dim': (100,100,100),\n",
    "          'batch_size': 5,\n",
    "          'n_classes': 3,\n",
    "          'n_channels': 1,\n",
    "          'rotation': True,\n",
    "          'normalisation': True,\n",
    "          'min_bound': 0,\n",
    "          'max_bound': 1,\n",
    "          'gaussian_noise': True,\n",
    "          'noise_mean': 0,\n",
    "          'noise_std': 0.01,\n",
    "          'shuffle': True,\n",
    "          'rotate_std':15,\n",
    "          'path':'./new_data',\n",
    "          'display_ID':False}"
   ]
  },
  {
   "cell_type": "code",
   "execution_count": 9,
   "metadata": {},
   "outputs": [],
   "source": [
    "# Generators\n",
    "training_generator = DataGenerator(dictionary['train'], labels, **params)\n",
    "validation_generator = DataGenerator(dictionary['validation'], labels, **params)"
   ]
  },
  {
   "cell_type": "markdown",
   "metadata": {},
   "source": [
    "# Create a very simple CNN for demonstration"
   ]
  },
  {
   "cell_type": "markdown",
   "metadata": {},
   "source": [
    "**Note:** The architecture of the following CNN is not recommended. This is just for demonstration purposes."
   ]
  },
  {
   "cell_type": "code",
   "execution_count": 10,
   "metadata": {},
   "outputs": [],
   "source": [
    "no_epochs = 2\n",
    "size3d = ( 100, 100, 100, 1)"
   ]
  },
  {
   "cell_type": "code",
   "execution_count": 11,
   "metadata": {},
   "outputs": [],
   "source": [
    "model = Sequential()\n",
    "#usually for a CNN the first layer that it encounters is a Convolutional Layer.\n",
    "model.add(Conv3D(filters = 8, kernel_size = (4,4,4), strides = (2,2,2), padding = 'valid',\n",
    "                #I also need to specify the input shape that it should expect\n",
    "                #That is the shape of a single input image\n",
    "                input_shape = size3d,\n",
    "                kernel_initializer='he_uniform',\n",
    "                #Finally we need to choose what activation function we want to use\n",
    "                activation = 'relu'))\n",
    "\n",
    "#After a convolutional layer we should have a POOLING LAYER\n",
    "                    #pool size usually half of kernel size\n",
    "model.add(MaxPool3D(pool_size = (2,2,2)))\n",
    "\n",
    "model.add(Conv3D(filters = 8, kernel_size = (4,4,4), strides = (2,2,2), padding = 'valid',\n",
    "                kernel_initializer = 'he_uniform',\n",
    "                activation = 'relu'))\n",
    "model.add(MaxPool3D(pool_size = (2,2,2)))\n",
    "\n",
    "model.add(Flatten())\n",
    "\n",
    "\n",
    "model.add(Dense(50, kernel_initializer='he_uniform',activation = 'relu'))\n",
    "\n",
    "# Dropouts help reduce overfitting by randomly turning neurons off during training.\n",
    "# Here we say randomly turn off 50% of neurons.\n",
    "model.add(Dropout(0.5))\n",
    "\n",
    "\n",
    "#final output layer\n",
    "model.add(Dense(3, activation='softmax'))\n",
    "\n",
    "model.compile(loss='categorical_crossentropy',\n",
    "              optimizer = 'adam',\n",
    "              metrics=['accuracy'])"
   ]
  },
  {
   "cell_type": "code",
   "execution_count": 12,
   "metadata": {},
   "outputs": [
    {
     "name": "stdout",
     "output_type": "stream",
     "text": [
      "Model: \"sequential\"\n",
      "_________________________________________________________________\n",
      "Layer (type)                 Output Shape              Param #   \n",
      "=================================================================\n",
      "conv3d (Conv3D)              (None, 49, 49, 49, 8)     520       \n",
      "_________________________________________________________________\n",
      "max_pooling3d (MaxPooling3D) (None, 24, 24, 24, 8)     0         \n",
      "_________________________________________________________________\n",
      "conv3d_1 (Conv3D)            (None, 11, 11, 11, 8)     4104      \n",
      "_________________________________________________________________\n",
      "max_pooling3d_1 (MaxPooling3 (None, 5, 5, 5, 8)        0         \n",
      "_________________________________________________________________\n",
      "flatten (Flatten)            (None, 1000)              0         \n",
      "_________________________________________________________________\n",
      "dense (Dense)                (None, 50)                50050     \n",
      "_________________________________________________________________\n",
      "dropout (Dropout)            (None, 50)                0         \n",
      "_________________________________________________________________\n",
      "dense_1 (Dense)              (None, 3)                 153       \n",
      "=================================================================\n",
      "Total params: 54,827\n",
      "Trainable params: 54,827\n",
      "Non-trainable params: 0\n",
      "_________________________________________________________________\n"
     ]
    }
   ],
   "source": [
    "model.summary()"
   ]
  },
  {
   "cell_type": "code",
   "execution_count": 13,
   "metadata": {},
   "outputs": [
    {
     "name": "stdout",
     "output_type": "stream",
     "text": [
      "Epoch 1/2\n",
      "9/9 [==============================] - 15s 2s/step - loss: 1.2293 - accuracy: 0.3556 - val_loss: 1.0822 - val_accuracy: 0.5000\n",
      "Epoch 2/2\n",
      "9/9 [==============================] - 14s 2s/step - loss: 1.1103 - accuracy: 0.2667 - val_loss: 1.0786 - val_accuracy: 0.6000\n"
     ]
    },
    {
     "data": {
      "text/plain": [
       "<tensorflow.python.keras.callbacks.History at 0x7fe011998a58>"
      ]
     },
     "execution_count": 13,
     "metadata": {},
     "output_type": "execute_result"
    }
   ],
   "source": [
    "model.fit(x = training_generator,\n",
    "          epochs= no_epochs, \n",
    "          validation_data= validation_generator)"
   ]
  }
 ],
 "metadata": {
  "kernelspec": {
   "display_name": "Python 3",
   "language": "python",
   "name": "python3"
  },
  "language_info": {
   "codemirror_mode": {
    "name": "ipython",
    "version": 3
   },
   "file_extension": ".py",
   "mimetype": "text/x-python",
   "name": "python",
   "nbconvert_exporter": "python",
   "pygments_lexer": "ipython3",
   "version": "3.7.3"
  }
 },
 "nbformat": 4,
 "nbformat_minor": 2
}
